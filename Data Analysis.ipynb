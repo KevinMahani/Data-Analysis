{
 "cells": [
  {
   "cell_type": "code",
   "execution_count": 1,
   "metadata": {},
   "outputs": [],
   "source": [
    "x = \"Hello World\""
   ]
  },
  {
   "cell_type": "code",
   "execution_count": 4,
   "metadata": {},
   "outputs": [
    {
     "name": "stdout",
     "output_type": "stream",
     "text": [
      "04 3\n",
      "06 1\n",
      "07 1\n",
      "09 2\n",
      "10 3\n",
      "11 6\n",
      "14 1\n",
      "15 2\n",
      "16 4\n",
      "17 2\n",
      "18 1\n",
      "19 1\n"
     ]
    }
   ],
   "source": [
    "name = input(\"Enter file name: \")\n",
    "if len(name) < 1:\n",
    "    name = \"t.txt\"\n",
    "handle = open(name)\n",
    "lst = list()\n",
    "for line in handle:\n",
    "    line = line.rstrip()\n",
    "    words = line.split()\n",
    "    if len(words)<1 or words[0]!=\"From\": continue\n",
    "    lst.append(words[5])\n",
    "    x = list()\n",
    "    for word in lst:\n",
    "        y = word[:2]\n",
    "        x.append(y)\n",
    "        counts = dict()\n",
    "        for i in x:\n",
    "            counts[i]= counts.get(i,0)+1\n",
    "        z = list()\n",
    "        for k,v in counts.items():\n",
    "            newtup= (v,k)\n",
    "            z.append(newtup)\n",
    "            z = sorted(z,reverse=True)\n",
    "            s = list()\n",
    "            for v,k in z:\n",
    "                new = (k,v)\n",
    "                s.append(new)\n",
    "                s = sorted(s)\n",
    "for a,b in s:\n",
    "    print(a,b)\n"
   ]
  }
 ],
 "metadata": {
  "kernelspec": {
   "display_name": "Python 3",
   "language": "python",
   "name": "python3"
  },
  "language_info": {
   "codemirror_mode": {
    "name": "ipython",
    "version": 3
   },
   "file_extension": ".py",
   "mimetype": "text/x-python",
   "name": "python",
   "nbconvert_exporter": "python",
   "pygments_lexer": "ipython3",
   "version": "3.12.2"
  }
 },
 "nbformat": 4,
 "nbformat_minor": 2
}
